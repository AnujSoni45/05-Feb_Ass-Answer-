{
 "cells": [
  {
   "cell_type": "code",
   "execution_count": null,
   "id": "5e457173-239a-4376-8528-26b4b4ad17c4",
   "metadata": {},
   "outputs": [],
   "source": [
    "Q1. Explain Class and Object with respect to Object-Oriented Programming. Give a suitable example."
   ]
  },
  {
   "cell_type": "code",
   "execution_count": null,
   "id": "19ccaa92-d268-4bcd-8fc4-28c9febbdf1f",
   "metadata": {},
   "outputs": [],
   "source": [
    "(Answer)\n",
    "In object-oriented programming (OOP), a class is a blueprint or template for creating objects. \n",
    "It defines the properties (attributes) and behaviors (methods) that an object of that class will possess. \n",
    "A class serves as a template that encapsulates the common characteristics and behaviors shared by a \n",
    "group of objects.\n",
    "Object is an instance or a specific realization of a class. It is a concrete entity that represents \n",
    "a particular occurrence or occurrence of the class, with its unique set of attribute values. \n",
    "Objects are created based on the class definition and can interact with each other by invoking methods \n",
    "and accessing attributes defined in their class."
   ]
  },
  {
   "cell_type": "code",
   "execution_count": 1,
   "id": "2d473bf9-955f-47f3-86ae-3b86e029ae29",
   "metadata": {},
   "outputs": [],
   "source": [
    "(Example)\n",
    "class Car:\n",
    "    def __init__(self, brand, model, color):\n",
    "        self.brand = brand\n",
    "        self.model = model\n",
    "        self.color = color\n",
    "        self.speed = 0\n",
    "\n",
    "    def accelerate(self, acceleration):\n",
    "        self.speed += acceleration\n",
    "\n",
    "    def brake(self, deceleration):\n",
    "        self.speed -= deceleration\n",
    "\n",
    "    def display_info(self):\n",
    "        print(f\"Brand: {self.brand}\")\n",
    "        print(f\"Model: {self.model}\")\n",
    "        print(f\"Color: {self.color}\")\n",
    "        print(f\"Current Speed: {self.speed} km/h\")\n"
   ]
  },
  {
   "cell_type": "code",
   "execution_count": 2,
   "id": "81471a45-f251-43a5-9737-9a0385e1bc3a",
   "metadata": {},
   "outputs": [],
   "source": [
    "car1 = Car(\"Toyota\", \"Camry\", \"Blue\")\n",
    "car2 = Car(\"Honda\", \"Accord\", \"Red\")\n"
   ]
  },
  {
   "cell_type": "code",
   "execution_count": 3,
   "id": "09093e9c-dc64-4f58-ac34-93fc73bcc9ae",
   "metadata": {},
   "outputs": [
    {
     "name": "stdout",
     "output_type": "stream",
     "text": [
      "Brand: Toyota\n",
      "Model: Camry\n",
      "Color: Blue\n",
      "Current Speed: 30 km/h\n",
      "Brand: Honda\n",
      "Model: Accord\n",
      "Color: Red\n",
      "Current Speed: 50 km/h\n"
     ]
    }
   ],
   "source": [
    "car1.accelerate(30)\n",
    "car1.display_info()  \n",
    "\n",
    "car2.accelerate(50)\n",
    "car2.display_info()  \n"
   ]
  },
  {
   "cell_type": "code",
   "execution_count": null,
   "id": "f31fcc9b-83c3-4fa5-a1a3-964b25cf8a02",
   "metadata": {},
   "outputs": [],
   "source": [
    "Q2. Name the four pillars of OOPs."
   ]
  },
  {
   "cell_type": "code",
   "execution_count": null,
   "id": "f69e2cde-6108-43a0-90b8-a8a7ee8e95b4",
   "metadata": {},
   "outputs": [],
   "source": [
    "1.Abstraction\n",
    "2.Encapsulation\n",
    "3.Inheritance\n",
    "4.Polymorphism"
   ]
  },
  {
   "cell_type": "code",
   "execution_count": null,
   "id": "f0769937-b78b-4041-820f-4501dc3c8838",
   "metadata": {},
   "outputs": [],
   "source": [
    "Q3. Explain why the __init__() function is used. Give a suitable example."
   ]
  },
  {
   "cell_type": "code",
   "execution_count": null,
   "id": "1968c8db-116c-423e-9e9b-fb9b5954b313",
   "metadata": {},
   "outputs": [],
   "source": [
    "(Answer)\n",
    "The __init__() function is a special method in Python classes that is automatically called when an object \n",
    "is created from the class. It is used to initialize the attributes or properties of the object. \n",
    "The name __init__ stands for \"initialize\" and reflects its purpose of setting up the initial state of an object."
   ]
  },
  {
   "cell_type": "code",
   "execution_count": null,
   "id": "471b1127-5f6f-4fbd-9290-1040e7ef60a5",
   "metadata": {},
   "outputs": [],
   "source": [
    "Q4. Why self is used in OOPs?"
   ]
  },
  {
   "cell_type": "code",
   "execution_count": null,
   "id": "948057a5-b8a2-4f28-9240-f41ea47ef712",
   "metadata": {},
   "outputs": [],
   "source": [
    "(Answer)\n",
    "In object-oriented programming (OOP), self is a convention used to refer to the instance of a \n",
    "class within the class's methods. It is a special parameter that represents the object itself.\n",
    "The use of self allows you to access the attributes and methods of the object from within its own class."
   ]
  },
  {
   "cell_type": "code",
   "execution_count": null,
   "id": "f5794283-3177-4963-8039-0ec2c73c7126",
   "metadata": {},
   "outputs": [],
   "source": [
    "Q5. What is inheritance? Give an example for each type of inheritance."
   ]
  },
  {
   "cell_type": "code",
   "execution_count": null,
   "id": "73381c50-6313-4447-a9cb-b434d0f902ac",
   "metadata": {},
   "outputs": [],
   "source": [
    "(Answer)\n",
    "Inheritance is a fundamental concept in object-oriented programming (OOP) that allows the \n",
    "creation of new classes (derived classes) based on existing classes (base or parent classes). "
   ]
  },
  {
   "cell_type": "code",
   "execution_count": 4,
   "id": "50ccf53b-f21e-4cbb-8cda-91d1ce044dbf",
   "metadata": {},
   "outputs": [
    {
     "name": "stdout",
     "output_type": "stream",
     "text": [
      "Buddy is eating.\n",
      "Woof!\n"
     ]
    }
   ],
   "source": [
    "(Single Inheritance) :\n",
    "class Animal:\n",
    "    def __init__(self, name):\n",
    "        self.name = name\n",
    "\n",
    "    def eat(self):\n",
    "        print(f\"{self.name} is eating.\")\n",
    "\n",
    "class Dog(Animal):\n",
    "    def bark(self):\n",
    "        print(\"Woof!\")\n",
    "\n",
    "dog = Dog(\"Buddy\")\n",
    "dog.eat()  \n",
    "dog.bark()\n"
   ]
  },
  {
   "cell_type": "code",
   "execution_count": 5,
   "id": "d15b673f-1b30-405b-ac6e-5fbe812c94f7",
   "metadata": {},
   "outputs": [
    {
     "name": "stdout",
     "output_type": "stream",
     "text": [
      "Flying...\n",
      "Swimming...\n",
      "Quack!\n"
     ]
    }
   ],
   "source": [
    "(Multiple Inheritance):\n",
    "\n",
    "class Flyable:\n",
    "    def fly(self):\n",
    "        print(\"Flying...\")\n",
    "\n",
    "class Swimmable:\n",
    "    def swim(self):\n",
    "        print(\"Swimming...\")\n",
    "\n",
    "class Duck(Flyable, Swimmable):\n",
    "    def quack(self):\n",
    "        print(\"Quack!\")\n",
    "\n",
    "duck = Duck()\n",
    "duck.fly()  \n",
    "duck.swim()  \n",
    "duck.quack()  \n"
   ]
  },
  {
   "cell_type": "code",
   "execution_count": 6,
   "id": "c50ed470-d9ef-4005-b20b-665703986f8e",
   "metadata": {},
   "outputs": [
    {
     "name": "stdout",
     "output_type": "stream",
     "text": [
      "Eating...\n",
      "Walking...\n",
      "Woof!\n"
     ]
    }
   ],
   "source": [
    "class Animal:\n",
    "    def eat(self):\n",
    "        print(\"Eating...\")\n",
    "\n",
    "class Mammal(Animal):\n",
    "    def walk(self):\n",
    "        print(\"Walking...\")\n",
    "\n",
    "class Dog(Mammal):\n",
    "    def bark(self):\n",
    "        print(\"Woof!\")\n",
    "\n",
    "\n",
    "dog = Dog()\n",
    "dog.eat()  \n",
    "dog.walk()  \n",
    "dog.bark()  \n"
   ]
  },
  {
   "cell_type": "code",
   "execution_count": null,
   "id": "1f6ed94b-6464-4831-a197-e22ab41dd7e7",
   "metadata": {},
   "outputs": [],
   "source": []
  }
 ],
 "metadata": {
  "kernelspec": {
   "display_name": "Python 3 (ipykernel)",
   "language": "python",
   "name": "python3"
  },
  "language_info": {
   "codemirror_mode": {
    "name": "ipython",
    "version": 3
   },
   "file_extension": ".py",
   "mimetype": "text/x-python",
   "name": "python",
   "nbconvert_exporter": "python",
   "pygments_lexer": "ipython3",
   "version": "3.10.8"
  }
 },
 "nbformat": 4,
 "nbformat_minor": 5
}
